{
 "cells": [
  {
   "cell_type": "code",
   "execution_count": 1,
   "id": "c402cbd9-01b9-440f-a32d-1e2a89e16dc5",
   "metadata": {},
   "outputs": [
    {
     "name": "stdout",
     "output_type": "stream",
     "text": [
      "Coders 20 5.7 True\n"
     ]
    }
   ],
   "source": [
    "#variables and datatypes:\n",
    "name = \"Coders\"\n",
    "age = 20\n",
    "height = 5.7\n",
    "is_student = True\n",
    "print(name,age,height,is_student)"
   ]
  },
  {
   "cell_type": "code",
   "execution_count": 6,
   "id": "a18559dd-7424-4c20-b847-ee5b5dac71ad",
   "metadata": {},
   "outputs": [
    {
     "name": "stdout",
     "output_type": "stream",
     "text": [
      "marigold\n",
      "lotus\n"
     ]
    }
   ],
   "source": [
    "#for loop\n",
    "flower = [\"rose\", \"marigold\", \"lotus\"]\n",
    "for f in flower:\n",
    "  if f == \"rose\":\n",
    "    continue\n",
    "  print(f)"
   ]
  },
  {
   "cell_type": "code",
   "execution_count": 7,
   "id": "d1ba21aa-77d2-4bb9-a89b-9f2fb8ba0a95",
   "metadata": {},
   "outputs": [
    {
     "name": "stdout",
     "output_type": "stream",
     "text": [
      "The count is: 0\n",
      "The count is: 1\n",
      "The count is: 2\n",
      "The count is: 3\n",
      "The count is: 4\n",
      "The count is: 5\n",
      "The count is: 6\n",
      "The count is: 7\n",
      "The count is: 8\n",
      "The count is: 9\n",
      "The count is: 10\n",
      "Thank You\n"
     ]
    }
   ],
   "source": [
    "#while loop\n",
    "count = 0\n",
    "while (count < 11):\n",
    " print ('The count is:', count)\n",
    " count = count + 1\n",
    "print (\"Thank You\")"
   ]
  },
  {
   "cell_type": "code",
   "execution_count": 13,
   "id": "54c75e56-6758-4081-9050-07f61ec7498c",
   "metadata": {},
   "outputs": [
    {
     "name": "stdout",
     "output_type": "stream",
     "text": [
      "Hello Coders\n"
     ]
    }
   ],
   "source": [
    "#Functions:\n",
    "def greet(name):\n",
    "    print(\"Hello\", name)\n",
    "greet(\"Coders\")"
   ]
  },
  {
   "cell_type": "code",
   "execution_count": 10,
   "id": "ddfbb162-cac5-4364-9631-241832aa3d80",
   "metadata": {},
   "outputs": [
    {
     "name": "stdout",
     "output_type": "stream",
     "text": [
      "142\n",
      "33\n",
      "1156\n",
      "4.0\n",
      "45\n"
     ]
    }
   ],
   "source": [
    "#Arithmetic Operations:\n",
    "#Addition:\n",
    "x = 75\n",
    "y = 67\n",
    "result= x+y \n",
    "print(result)\n",
    "\n",
    "#Subtraction:\n",
    "x = 45\n",
    "y = 12\n",
    "result= x-y \n",
    "print(result)\n",
    "\n",
    "#Multiplication:\n",
    "x = 34\n",
    "y = 34\n",
    "result= x*y \n",
    "print(result)\n",
    "\n",
    "#Division\n",
    "x = 56\n",
    "y = 14\n",
    "result= x/y \n",
    "print(result)\n",
    "\n",
    "#Modulus\n",
    "x = 45\n",
    "y = 90\n",
    "result= x%y \n",
    "print(result)"
   ]
  },
  {
   "cell_type": "code",
   "execution_count": 14,
   "id": "5a1f052e-095f-4081-b143-d86bbd105cea",
   "metadata": {},
   "outputs": [
    {
     "name": "stdout",
     "output_type": "stream",
     "text": [
      "Hello Coders\n",
      "Hello,Coders!\n",
      "HELLO,CODERS!\n",
      "hello,coders!\n",
      "Hi,Coders!\n",
      "['Hello', 'Coders!']\n",
      "Hello\n",
      "12\n"
     ]
    }
   ],
   "source": [
    "#String Manipulation:\n",
    "#string\n",
    "string1 = \"Hello\"\n",
    "string2 = \"Coders\"\n",
    "\n",
    "#1.Concatenation:\n",
    "string1 = \"Hello\"\n",
    "string2 = \"Coders\"\n",
    "result = string1 + \" \" + string2\n",
    "print(result) \n",
    "\n",
    "#2.String Methods:\n",
    "s = \"Hello,Coders!\"\n",
    "print(s.strip())  \n",
    "print(s.upper())  \n",
    "print(s.lower()) \n",
    "print(s.replace(\"Hello\", \"Hi\")) \n",
    "print(s.split(\",\"))\n",
    "\n",
    "#3.Substring:\n",
    "s = \"Hello Coders\"\n",
    "substring = s[0:5]  \n",
    "print(substring)\n",
    "\n",
    "#5.String Length:\n",
    "s = \"Hello Coders\"\n",
    "print(len(s))  \n"
   ]
  },
  {
   "cell_type": "code",
   "execution_count": 15,
   "id": "d01128c2-2aaa-4608-b48e-aa96d66e1f87",
   "metadata": {},
   "outputs": [
    {
     "name": "stdout",
     "output_type": "stream",
     "text": [
      "The number is positive.\n",
      "The number is even.\n"
     ]
    }
   ],
   "source": [
    "#conditional statements\n",
    "num = 876\n",
    "\n",
    "if num > 0:\n",
    "  print(\"The number is positive.\")\n",
    "else:\n",
    "  print(\"The number is negative.\")\n",
    "if num % 2 == 0:\n",
    "  print(\"The number is even.\")\n",
    "else:\n",
    "  print(\"The number is odd.\")"
   ]
  },
  {
   "cell_type": "code",
   "execution_count": 15,
   "id": "cef440b8-6610-49e1-a62f-0bb8a513cb64",
   "metadata": {},
   "outputs": [
    {
     "name": "stdout",
     "output_type": "stream",
     "text": [
      "[2, 4]\n",
      "updated list: ['8', 2, 4, 5, 6]\n"
     ]
    }
   ],
   "source": [
    "#Lists:\n",
    "#Creating lists:\n",
    "my_list = [1, 2, 3, 4, 5]\n",
    "\n",
    "#Modifying elements:\n",
    "my_list[0] = \"8\"\n",
    "\n",
    "#Removing elements\n",
    "my_list.remove(3)\n",
    "\n",
    "# Adding elements\n",
    "my_list.append(6) \n",
    "\n",
    "# Slicing\n",
    "print(my_list[1:3])\n",
    "\n",
    "print(\"updated list:\" ,my_list)\n"
   ]
  },
  {
   "cell_type": "code",
   "execution_count": 3,
   "id": "42217e3b-46a8-4807-9c73-cf31faed29a5",
   "metadata": {},
   "outputs": [
    {
     "name": "stdout",
     "output_type": "stream",
     "text": [
      "{'name': 'Coders', 'age': 26, 'location': 'India'}\n",
      "{'name': 'Coders', 'age': 26}\n",
      "Coders\n",
      "26\n",
      "updated dictionary: {'name': 'Coders', 'age': 26}\n"
     ]
    }
   ],
   "source": [
    "#Dictionaries\n",
    "my_dic = {\"name\": \"Coders\", \"age\": 20, \"location\": \"India\"}\n",
    "\n",
    "#Modifying Dictionaries:\n",
    "my_dic[\"age\"] = 26\n",
    "print(my_dic)  \n",
    "\n",
    "# Removing a key-value pair\n",
    "del my_dic[\"location\"]\n",
    "print(my_dic)\n",
    "\n",
    "# Access by key\n",
    "print(my_dic[\"name\"])  \n",
    "print(my_dic[\"age\"])\n",
    "\n",
    "print(\"updated dictionary:\", my_dic)"
   ]
  },
  {
   "cell_type": "code",
   "execution_count": 4,
   "id": "967b3b0c-0438-44eb-842a-2064538f90c4",
   "metadata": {},
   "outputs": [
    {
     "name": "stdout",
     "output_type": "stream",
     "text": [
      "(3,)\n",
      "5\n",
      "(1, 2, 3, 4, 5, 6)\n",
      "(1,)\n"
     ]
    }
   ],
   "source": [
    "#Tuples\n",
    "my_tuple = (1,2,3,4,5)\n",
    "\n",
    "# Slicing\n",
    "print(my_tuple[2:3])\n",
    "\n",
    "#Tuple Length:\n",
    "print(len(my_tuple))\n",
    "\n",
    "#adding tuple:\n",
    "new_tuple = 6\n",
    "result_tuple = my_tuple + (new_tuple,)\n",
    "print(result_tuple)\n",
    "\n",
    "#removing tuple:\n",
    "result_tuple = my_tuple[:1] + my_tuple[5:]\n",
    "\n",
    "print(result_tuple)"
   ]
  }
 ],
 "metadata": {
  "kernelspec": {
   "display_name": "Python 3 (ipykernel)",
   "language": "python",
   "name": "python3"
  },
  "language_info": {
   "codemirror_mode": {
    "name": "ipython",
    "version": 3
   },
   "file_extension": ".py",
   "mimetype": "text/x-python",
   "name": "python",
   "nbconvert_exporter": "python",
   "pygments_lexer": "ipython3",
   "version": "3.11.7"
  }
 },
 "nbformat": 4,
 "nbformat_minor": 5
}
